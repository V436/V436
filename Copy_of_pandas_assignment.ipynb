{
  "nbformat": 4,
  "nbformat_minor": 0,
  "metadata": {
    "colab": {
      "name": "Copy of pandas assignment",
      "provenance": [],
      "collapsed_sections": [],
      "include_colab_link": true
    },
    "kernelspec": {
      "name": "python3",
      "display_name": "Python 3"
    },
    "accelerator": "GPU"
  },
  "cells": [
    {
      "cell_type": "markdown",
      "metadata": {
        "id": "view-in-github",
        "colab_type": "text"
      },
      "source": [
        "<a href=\"https://colab.research.google.com/github/V436/V436/blob/main/Copy_of_pandas_assignment.ipynb\" target=\"_parent\"><img src=\"https://colab.research.google.com/assets/colab-badge.svg\" alt=\"Open In Colab\"/></a>"
      ]
    },
    {
      "cell_type": "code",
      "source": [
        "import pandas as pd\n",
        "import numpy as np\n",
        "data={\"Name\": np.array([\"madhu\",\"kiran\",\"supriya\",\"sowmithry\"]),\"marks\":np.array([23,24,25,24])}\n",
        "df=pd.DataFrame(data)\n",
        "print(df)"
      ],
      "metadata": {
        "id": "lNrfuhyBwrVl",
        "outputId": "58aec03c-91a3-4f78-819a-136aa23f5ab2",
        "colab": {
          "base_uri": "https://localhost:8080/"
        }
      },
      "execution_count": null,
      "outputs": [
        {
          "output_type": "stream",
          "name": "stdout",
          "text": [
            "        Name  marks\n",
            "0      madhu     23\n",
            "1      kiran     24\n",
            "2    supriya     25\n",
            "3  sowmithry     24\n"
          ]
        }
      ]
    },
    {
      "cell_type": "markdown",
      "source": [
        ""
      ],
      "metadata": {
        "id": "y-2phPhNQilg"
      }
    },
    {
      "cell_type": "code",
      "source": [
        ""
      ],
      "metadata": {
        "id": "kolamCnfQjWu"
      },
      "execution_count": null,
      "outputs": []
    },
    {
      "cell_type": "code",
      "source": [
        "\n",
        "import pandas as pd\n",
        "import numpy as np\n",
        "data={\"name\":np.array([\"madhu\",\"kiran\",\"supriya\",\"sowmithry\"]),\"marks\":np.array([23,24,25,24])}\n",
        "df=pd.DataFrame(data,index=[1,2,3,4])\n",
        "print(df)\n",
        "df=df.rename(columns={\"name\":\"student_name\",\"marks\":\"student_marks\"})\n",
        "print(df)"
      ],
      "metadata": {
        "id": "qHmKkWTk0Yut",
        "outputId": "7c67c273-6282-4974-db16-f0c98ddef536",
        "colab": {
          "base_uri": "https://localhost:8080/"
        }
      },
      "execution_count": null,
      "outputs": [
        {
          "output_type": "stream",
          "name": "stdout",
          "text": [
            "        name  marks\n",
            "1      madhu     23\n",
            "2      kiran     24\n",
            "3    supriya     25\n",
            "4  sowmithry     24\n",
            "  student_name  student_marks\n",
            "1        madhu             23\n",
            "2        kiran             24\n",
            "3      supriya             25\n",
            "4    sowmithry             24\n"
          ]
        }
      ]
    },
    {
      "cell_type": "code",
      "source": [
        "import pandas as pd\n",
        "import numpy as np\n",
        "dates=pd.date_range(\"20220721\",periods=10)\n",
        "df1=pd.DataFrame(np.random.randn(10,4), index=dates,columns=list('ZYXW'))\n",
        "print(df1)\n",
        "df1.iloc[1][1]=np.nan\n",
        "df1.iloc[2][2]=np.nan\n",
        "df1.iloc[3][3]=np.nan\n",
        "df1.iloc[4][3]=np.nan\n",
        "df1.iloc[5][2]=np.nan\n",
        "print(df1)\n",
        "print(df1.isnull())"
      ],
      "metadata": {
        "id": "RcbCpQo22XRG",
        "outputId": "10443fc7-ea15-46fe-ccf5-9b0d154eafc4",
        "colab": {
          "base_uri": "https://localhost:8080/"
        }
      },
      "execution_count": null,
      "outputs": [
        {
          "output_type": "stream",
          "name": "stdout",
          "text": [
            "                   Z         Y         X         W\n",
            "2022-07-21  3.394474 -0.163551 -0.961598 -0.404164\n",
            "2022-07-22  0.456023  0.790044 -0.217138  0.411828\n",
            "2022-07-23 -0.694562 -1.332013 -0.318607  0.940351\n",
            "2022-07-24 -0.789716 -1.697815 -0.536002  0.711056\n",
            "2022-07-25  0.685398 -0.889666 -1.613948 -0.004405\n",
            "2022-07-26  0.287037 -1.993365 -2.242446 -0.043502\n",
            "2022-07-27  0.387028  0.557056 -1.014001  0.108129\n",
            "2022-07-28  0.211623 -0.795987  0.168676 -0.878062\n",
            "2022-07-29  1.250938 -0.762945 -1.141581  0.499355\n",
            "2022-07-30  1.104587 -0.287212 -0.069654  0.826179\n",
            "                   Z         Y         X         W\n",
            "2022-07-21  3.394474 -0.163551 -0.961598 -0.404164\n",
            "2022-07-22  0.456023       NaN -0.217138  0.411828\n",
            "2022-07-23 -0.694562 -1.332013       NaN  0.940351\n",
            "2022-07-24 -0.789716 -1.697815 -0.536002       NaN\n",
            "2022-07-25  0.685398 -0.889666 -1.613948       NaN\n",
            "2022-07-26  0.287037 -1.993365       NaN -0.043502\n",
            "2022-07-27  0.387028  0.557056 -1.014001  0.108129\n",
            "2022-07-28  0.211623 -0.795987  0.168676 -0.878062\n",
            "2022-07-29  1.250938 -0.762945 -1.141581  0.499355\n",
            "2022-07-30  1.104587 -0.287212 -0.069654  0.826179\n",
            "                Z      Y      X      W\n",
            "2022-07-21  False  False  False  False\n",
            "2022-07-22  False   True  False  False\n",
            "2022-07-23  False  False   True  False\n",
            "2022-07-24  False  False  False   True\n",
            "2022-07-25  False  False  False   True\n",
            "2022-07-26  False  False   True  False\n",
            "2022-07-27  False  False  False  False\n",
            "2022-07-28  False  False  False  False\n",
            "2022-07-29  False  False  False  False\n",
            "2022-07-30  False  False  False  False\n"
          ]
        }
      ]
    },
    {
      "cell_type": "code",
      "source": [
        "a=np.array([\"madhu\",\"kiran\",\"supriya\",\"sowmithry\"])\n",
        "b=np.array([23,24,25,24])\n",
        "data1={\"name\":a,\"marks\":b}\n",
        "df1=pd.DataFrame(data1)\n",
        "print(df1)\n",
        "df1[\"rollno\"]=[511,126,486,302]\n",
        "print(\"AFTER ADDING ROLLNO COLUMN TO DATAFRAME\")\n",
        "print(df1)\n",
        "df1['hobbies']=pd.Series(['designing','cricket','reading',\"chess\"])\n",
        "print(df1)\n",
        "del df1[\"rollno\"]\n",
        "print(df1)"
      ],
      "metadata": {
        "id": "S2pHF3Ji4CGz",
        "outputId": "944d5edb-474b-48a4-b5c8-b564eb2c8a64",
        "colab": {
          "base_uri": "https://localhost:8080/"
        }
      },
      "execution_count": null,
      "outputs": [
        {
          "output_type": "stream",
          "name": "stdout",
          "text": [
            "        name  marks\n",
            "0      madhu     23\n",
            "1      kiran     24\n",
            "2    supriya     25\n",
            "3  sowmithry     24\n",
            "AFTER ADDING ROLLNO COLUMN TO DATAFRAME\n",
            "        name  marks  rollno\n",
            "0      madhu     23     511\n",
            "1      kiran     24     126\n",
            "2    supriya     25     486\n",
            "3  sowmithry     24     302\n",
            "        name  marks  rollno    hobbies\n",
            "0      madhu     23     511  designing\n",
            "1      kiran     24     126    cricket\n",
            "2    supriya     25     486    reading\n",
            "3  sowmithry     24     302      chess\n",
            "        name  marks    hobbies\n",
            "0      madhu     23  designing\n",
            "1      kiran     24    cricket\n",
            "2    supriya     25    reading\n",
            "3  sowmithry     24      chess\n"
          ]
        }
      ]
    },
    {
      "cell_type": "code",
      "source": [
        "import pandas as pd\n",
        "import numpy as np\n",
        "data={\"Name\": np.array([\"madhu\",\"kiran\",\"supriya\",\"sowmithry\"]),\"marks\":np.array([23,24,25,24])}\n",
        "df=pd.DataFrame(data)\n",
        "data2={\"Name\": np.array([\"madhuri\",\"jyothsna\",\"vennela\",\"bharathi\"]),\"marks\":np.array([20,21,22,21])}\n",
        "df1=pd.DataFrame(data2)\n",
        "df1=df1.append(df1)\n",
        "print(df1)"
      ],
      "metadata": {
        "id": "y1ZNRZaC7Ma2",
        "outputId": "05dc358d-8bc8-46d4-ac45-f208b66370a3",
        "colab": {
          "base_uri": "https://localhost:8080/"
        }
      },
      "execution_count": null,
      "outputs": [
        {
          "output_type": "stream",
          "name": "stdout",
          "text": [
            "       Name  marks\n",
            "0   madhuri     20\n",
            "1  jyothsna     21\n",
            "2   vennela     22\n",
            "3  bharathi     21\n",
            "0   madhuri     20\n",
            "1  jyothsna     21\n",
            "2   vennela     22\n",
            "3  bharathi     21\n"
          ]
        }
      ]
    },
    {
      "cell_type": "code",
      "source": [
        "new_data=df1.name.str.split(pat='.',expand=True)\n",
        "print(new_data)"
      ],
      "metadata": {
        "id": "aTln4PhI8sfa",
        "outputId": "f5acb4a4-c745-4f44-d6b4-fd10cee63861",
        "colab": {
          "base_uri": "https://localhost:8080/",
          "height": 321
        }
      },
      "execution_count": null,
      "outputs": [
        {
          "output_type": "error",
          "ename": "AttributeError",
          "evalue": "ignored",
          "traceback": [
            "\u001b[0;31m---------------------------------------------------------------------------\u001b[0m",
            "\u001b[0;31mAttributeError\u001b[0m                            Traceback (most recent call last)",
            "\u001b[0;32m<ipython-input-46-d8af5bda6d3a>\u001b[0m in \u001b[0;36m<module>\u001b[0;34m()\u001b[0m\n\u001b[0;32m----> 1\u001b[0;31m \u001b[0mnew_data\u001b[0m\u001b[0;34m=\u001b[0m\u001b[0mdf1\u001b[0m\u001b[0;34m.\u001b[0m\u001b[0mname\u001b[0m\u001b[0;34m.\u001b[0m\u001b[0mstr\u001b[0m\u001b[0;34m.\u001b[0m\u001b[0msplit\u001b[0m\u001b[0;34m(\u001b[0m\u001b[0mpat\u001b[0m\u001b[0;34m=\u001b[0m\u001b[0;34m'.'\u001b[0m\u001b[0;34m,\u001b[0m\u001b[0mexpand\u001b[0m\u001b[0;34m=\u001b[0m\u001b[0;32mTrue\u001b[0m\u001b[0;34m)\u001b[0m\u001b[0;34m\u001b[0m\u001b[0;34m\u001b[0m\u001b[0m\n\u001b[0m\u001b[1;32m      2\u001b[0m \u001b[0mprint\u001b[0m\u001b[0;34m(\u001b[0m\u001b[0mnew_data\u001b[0m\u001b[0;34m)\u001b[0m\u001b[0;34m\u001b[0m\u001b[0;34m\u001b[0m\u001b[0m\n",
            "\u001b[0;32m/usr/local/lib/python3.7/dist-packages/pandas/core/generic.py\u001b[0m in \u001b[0;36m__getattr__\u001b[0;34m(self, name)\u001b[0m\n\u001b[1;32m   5485\u001b[0m         ):\n\u001b[1;32m   5486\u001b[0m             \u001b[0;32mreturn\u001b[0m \u001b[0mself\u001b[0m\u001b[0;34m[\u001b[0m\u001b[0mname\u001b[0m\u001b[0;34m]\u001b[0m\u001b[0;34m\u001b[0m\u001b[0;34m\u001b[0m\u001b[0m\n\u001b[0;32m-> 5487\u001b[0;31m         \u001b[0;32mreturn\u001b[0m \u001b[0mobject\u001b[0m\u001b[0;34m.\u001b[0m\u001b[0m__getattribute__\u001b[0m\u001b[0;34m(\u001b[0m\u001b[0mself\u001b[0m\u001b[0;34m,\u001b[0m \u001b[0mname\u001b[0m\u001b[0;34m)\u001b[0m\u001b[0;34m\u001b[0m\u001b[0;34m\u001b[0m\u001b[0m\n\u001b[0m\u001b[1;32m   5488\u001b[0m \u001b[0;34m\u001b[0m\u001b[0m\n\u001b[1;32m   5489\u001b[0m     \u001b[0;32mdef\u001b[0m \u001b[0m__setattr__\u001b[0m\u001b[0;34m(\u001b[0m\u001b[0mself\u001b[0m\u001b[0;34m,\u001b[0m \u001b[0mname\u001b[0m\u001b[0;34m:\u001b[0m \u001b[0mstr\u001b[0m\u001b[0;34m,\u001b[0m \u001b[0mvalue\u001b[0m\u001b[0;34m)\u001b[0m \u001b[0;34m->\u001b[0m \u001b[0;32mNone\u001b[0m\u001b[0;34m:\u001b[0m\u001b[0;34m\u001b[0m\u001b[0;34m\u001b[0m\u001b[0m\n",
            "\u001b[0;31mAttributeError\u001b[0m: 'DataFrame' object has no attribute 'name'"
          ]
        }
      ]
    },
    {
      "cell_type": "markdown",
      "source": [
        ""
      ],
      "metadata": {
        "id": "TJE50eLHOFgK"
      }
    },
    {
      "cell_type": "code",
      "source": [
        "a=np.array([\"madhu\",\"kiran\",\"supriya\",\"sowmithry\"])\n",
        "b=np.array([23,24,25,24])\n",
        "data1={\"name\":a,\"marks\":b}\n",
        "df1=pd.DataFrame(data1)\n",
        "print(df1)\n",
        "print(df[0:2])\n",
        "print(df1[\"name\"])\n",
        "print(df1[\"name\"][2])\n",
        "print(df1[\"name\"][-2:])\n",
        "print(df1.iloc[1][0])\n",
        "print(df1.loc[2][1])"
      ],
      "metadata": {
        "id": "LvSxGHSk-_wH",
        "outputId": "052a4ac1-cf12-4f95-e0df-458fa02262dc",
        "colab": {
          "base_uri": "https://localhost:8080/"
        }
      },
      "execution_count": null,
      "outputs": [
        {
          "output_type": "stream",
          "name": "stdout",
          "text": [
            "        name  marks\n",
            "0      madhu     23\n",
            "1      kiran     24\n",
            "2    supriya     25\n",
            "3  sowmithry     24\n",
            "    Name  marks\n",
            "0  madhu     23\n",
            "1  kiran     24\n",
            "0        madhu\n",
            "1        kiran\n",
            "2      supriya\n",
            "3    sowmithry\n",
            "Name: name, dtype: object\n",
            "supriya\n",
            "2      supriya\n",
            "3    sowmithry\n",
            "Name: name, dtype: object\n",
            "kiran\n",
            "25\n"
          ]
        }
      ]
    },
    {
      "cell_type": "code",
      "source": [
        "a=np.array([\"madhu\",\"kiran\",\"supriya\",\"sowmithry\",\"madhuri\",\"jyothsna\",\"vennela\",\"bharathi\",\"sundeep\"])\n",
        "b=np.array([23,24,25,24,20,21,22,21,23])\n",
        "c=np.array([511,126,486,302,521,501,428,401,131])\n",
        "d=np.array([8.1,8.2,8.3,8.4,8.5,8.6,7.9,7.8,7.6])\n",
        "data1={\"name\":a,\"marks\":b,\"cgpa\":d,\"rollno\":c}\n",
        "df1=pd.DataFrame(data1)\n",
        "print(df1)\n",
        "print(\"\\n\\n---using describe function---\\n\\n\")\n",
        "print(df1.describe())"
      ],
      "metadata": {
        "id": "t6tDhLHLBMtZ",
        "outputId": "ef0a4a24-b0ee-435f-ca77-1708c9b4da4b",
        "colab": {
          "base_uri": "https://localhost:8080/"
        }
      },
      "execution_count": null,
      "outputs": [
        {
          "output_type": "stream",
          "name": "stdout",
          "text": [
            "        name  marks  cgpa  rollno\n",
            "0      madhu     23   8.1     511\n",
            "1      kiran     24   8.2     126\n",
            "2    supriya     25   8.3     486\n",
            "3  sowmithry     24   8.4     302\n",
            "4    madhuri     20   8.5     521\n",
            "5   jyothsna     21   8.6     501\n",
            "6    vennela     22   7.9     428\n",
            "7   bharathi     21   7.8     401\n",
            "8    sundeep     23   7.6     131\n",
            "\n",
            "\n",
            "---using describe function---\n",
            "\n",
            "\n",
            "           marks      cgpa      rollno\n",
            "count   9.000000  9.000000    9.000000\n",
            "mean   22.555556  8.155556  378.555556\n",
            "std     1.666667  0.335824  157.419115\n",
            "min    20.000000  7.600000  126.000000\n",
            "25%    21.000000  7.900000  302.000000\n",
            "50%    23.000000  8.200000  428.000000\n",
            "75%    24.000000  8.400000  501.000000\n",
            "max    25.000000  8.600000  521.000000\n"
          ]
        }
      ]
    },
    {
      "cell_type": "code",
      "source": [
        "print(\"---using Head function---\\n\\n\")\n",
        "print(df1.head())\n",
        "print(\"\\n\\n---using Head function with specific value---\\n\\n\")\n",
        "print(df1.head(3))\n",
        "print(\"\\n\\n---using tail function---\\n\\n\")\n",
        "print(\"\\n\\n---using tail function with specific value---\\n\\n\")\n",
        "print(df1.tail())"
      ],
      "metadata": {
        "id": "1OpPLC5aEeMx",
        "outputId": "e8f45bee-1323-4119-9b97-23dd3ae273d2",
        "colab": {
          "base_uri": "https://localhost:8080/"
        }
      },
      "execution_count": null,
      "outputs": [
        {
          "output_type": "stream",
          "name": "stdout",
          "text": [
            "---using Head function---\n",
            "\n",
            "\n",
            "        name  marks  cgpa  rollno\n",
            "0      madhu     23   8.1     511\n",
            "1      kiran     24   8.2     126\n",
            "2    supriya     25   8.3     486\n",
            "3  sowmithry     24   8.4     302\n",
            "4    madhuri     20   8.5     521\n",
            "\n",
            "\n",
            "---using Head function with specific value---\n",
            "\n",
            "\n",
            "      name  marks  cgpa  rollno\n",
            "0    madhu     23   8.1     511\n",
            "1    kiran     24   8.2     126\n",
            "2  supriya     25   8.3     486\n",
            "\n",
            "\n",
            "---using tail function---\n",
            "\n",
            "\n",
            "\n",
            "\n",
            "---using tail function with specific value---\n",
            "\n",
            "\n",
            "       name  marks  cgpa  rollno\n",
            "4   madhuri     20   8.5     521\n",
            "5  jyothsna     21   8.6     501\n",
            "6   vennela     22   7.9     428\n",
            "7  bharathi     21   7.8     401\n",
            "8   sundeep     23   7.6     131\n"
          ]
        }
      ]
    }
  ]
}